{
 "cells": [
  {
   "cell_type": "markdown",
   "metadata": {},
   "source": [
    "# EXIF Date-based Image Writer\n",
    "\n",
    "This script takes a CSV as input and sets long/lat coordinates into files as described in the CSV.\n",
    "\n",
    "Example csv:\n",
    "\n",
    "    ./2003/2003-04-17 17.49.00.jpg,\"41.713857, -74.085870\"\n",
    "\n",
    "Because I'm paranoid, this script always creates a backup of the file before writing it."
   ]
  },
  {
   "cell_type": "markdown",
   "metadata": {},
   "source": [
    "Prerequsites:\n",
    "- `pip install tqdm`\n",
    "- `brew install exiftool`"
   ]
  },
  {
   "cell_type": "code",
   "execution_count": 29,
   "metadata": {},
   "outputs": [],
   "source": [
    "import glob\n",
    "import logging\n",
    "import multiprocessing\n",
    "import os\n",
    "import random\n",
    "import shutil\n",
    "import subprocess\n",
    "import time\n",
    "\n",
    "import tqdm\n",
    "from infinitewarp_utils import timing\n",
    "\n",
    "logger = logging.getLogger(__name__)\n",
    "logger.setLevel(logging.ERROR)\n",
    "\n",
    "BASE_DIR = os.path.expanduser('~/Pictures/full-archive/exif-testing')\n",
    "LOG_PATH = os.path.join(BASE_DIR, 'process-log.txt')"
   ]
  },
  {
   "cell_type": "code",
   "execution_count": 31,
   "metadata": {},
   "outputs": [],
   "source": [
    "rows = [\n",
    "    [\n",
    "        './2003/2003-04-17 17.49.00.jpg', \"41.713857, -74.085870\",\n",
    "    ]\n",
    "]"
   ]
  },
  {
   "cell_type": "code",
   "execution_count": 55,
   "metadata": {},
   "outputs": [],
   "source": [
    "def write_gps(filepath, latitude, longitude):\n",
    "    command = [\n",
    "        'exiftool',\n",
    "        f'-XMP:GPSLongitude=\"{longitude}\"',\n",
    "        f'-XMP:GPSLatitude=\"{latitude}\"',\n",
    "        filepath\n",
    "    ]\n",
    "    completed = subprocess.run(command, stdout=subprocess.PIPE)\n",
    "\n",
    "\n",
    "for row in rows:\n",
    "    filepath = os.path.join(Config.base_dir, row[0])\n",
    "    coordsrt = row[1].split(',')\n",
    "\n",
    "    latitude = float(coordsrt[0])\n",
    "    longitude = float(coordsrt[1])\n",
    "    \n",
    "    if os.path.isfile(filepath) and os.access(filepath, os.R_OK):\n",
    "        logger.info('%s at (%s, %s)', filepath, lat, long)\n",
    "        backuppath = f'{filepath}.BACKUP-{time.time()}.{filepath.split(\".\")[-1]}'\n",
    "        shutil.copy(filepath, backuppath)\n",
    "        write_gps(filepath, latitude, longitude)\n",
    "    else:\n",
    "        logger.error(f'file could not be accessed at {filepath}')\n",
    "    "
   ]
  },
  {
   "cell_type": "code",
   "execution_count": null,
   "metadata": {},
   "outputs": [],
   "source": []
  }
 ],
 "metadata": {
  "kernelspec": {
   "display_name": "Python 3",
   "language": "python",
   "name": "python3"
  },
  "language_info": {
   "codemirror_mode": {
    "name": "ipython",
    "version": 3
   },
   "file_extension": ".py",
   "mimetype": "text/x-python",
   "name": "python",
   "nbconvert_exporter": "python",
   "pygments_lexer": "ipython3",
   "version": "3.5.3"
  }
 },
 "nbformat": 4,
 "nbformat_minor": 2
}
