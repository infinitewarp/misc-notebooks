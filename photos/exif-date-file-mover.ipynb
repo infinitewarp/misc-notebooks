{
 "cells": [
  {
   "cell_type": "markdown",
   "metadata": {},
   "source": [
    "# EXIF Date-based Image Mover\n",
    "\n",
    "This script scans (recursively) a directory of images, uses `exiftool` to get the best possible origin date for each image, and moves the images into a new directory structure based on the dates found.\n",
    "\n",
    "This is a followup to the previous `exif-date-file-copier.ipynb` notebook after a few things happened:\n",
    "1. I discovered that the various Python-based libraries don't always produce appropiate origin dates.\n",
    "1. I manually pruned out a bunch of copied files that I decided not to keep."
   ]
  },
  {
   "cell_type": "markdown",
   "metadata": {},
   "source": [
    "Prerequsites:\n",
    "- `pip install tqdm`\n",
    "- `brew install exiftool`\n",
    "\n",
    "Note: only use `exiftool` because it's the most reliable despite potentially being slower due to forking and running it as a Perl program. Or maybe it's faster than the Python solutions? The performance difference isn't noticeable at this point to care to run benchmarks."
   ]
  },
  {
   "cell_type": "code",
   "execution_count": 74,
   "metadata": {},
   "outputs": [],
   "source": [
    "import glob\n",
    "import logging\n",
    "import multiprocessing\n",
    "import os\n",
    "import random\n",
    "import re\n",
    "import shutil\n",
    "import subprocess\n",
    "import time\n",
    "\n",
    "import tqdm\n",
    "from infinitewarp_utils import timing\n",
    "\n",
    "logger = logging.getLogger(__name__)\n",
    "logger.setLevel(logging.ERROR)"
   ]
  },
  {
   "cell_type": "code",
   "execution_count": 69,
   "metadata": {},
   "outputs": [],
   "source": [
    "class Config(object):\n",
    "    source_dir = os.path.expanduser('~/Pictures/full-archive/corrected-names')\n",
    "    output_dir = os.path.expanduser('~/Pictures/full-archive/grouped-names')\n",
    "    dupes_dir = os.path.join(output_dir, 'dupes')\n",
    "    no_dates_dir = os.path.join(output_dir, 'no-dates')\n",
    "    log_path = os.path.join(output_dir, 'process-log.txt')\n",
    "\n",
    "    @classmethod\n",
    "    def makedirs(cls):\n",
    "        os.makedirs(cls.output_dir, exist_ok=True)\n",
    "        os.makedirs(cls.dupes_dir, exist_ok=True)\n",
    "        os.makedirs(cls.no_dates_dir, exist_ok=True)\n",
    "\n",
    "Config.makedirs()"
   ]
  },
  {
   "cell_type": "code",
   "execution_count": 64,
   "metadata": {},
   "outputs": [],
   "source": [
    "class Patterns(object):\n",
    "    exif_date_sub = re.compile(r'(\\d{4}):(\\d{2}):(\\d{2} \\d{2})\\:(\\d{2})\\:(\\d{2})')\n",
    "    exif_date_rep = r'\\1-\\2-\\3.\\4.\\5'"
   ]
  },
  {
   "cell_type": "code",
   "execution_count": 65,
   "metadata": {},
   "outputs": [],
   "source": [
    "def get_exif_created_date(filepath):\n",
    "    completed = subprocess.run(['exiftool', filepath], stdout=subprocess.PIPE)\n",
    "    tags = {}\n",
    "    for line in completed.stdout.split(b'\\n'):\n",
    "        try:\n",
    "            line = line.decode('utf-8')\n",
    "        except:\n",
    "            continue\n",
    "        if ':' in line:\n",
    "            loc = line.find(':')\n",
    "            key = line.split(':')[0]\n",
    "            value = line[len(key) + 1:]\n",
    "            tags[key.strip()] = value.strip()\n",
    "            \n",
    "    return tags.get('Date/Time Original') or tags.get('Create Date') or tags.get('Modify Date')\n",
    "\n",
    "\n",
    "def build_new_name(filepath):\n",
    "    created_date = get_exif_created_date(filepath)\n",
    "    if created_date:\n",
    "        return '{}.{}'.format(\n",
    "            Patterns.exif_date_sub.sub(Patterns.exif_date_rep, created_date).lower(),\n",
    "            filepath.split('.')[-1]\n",
    "        )\n",
    "    return None"
   ]
  },
  {
   "cell_type": "code",
   "execution_count": 27,
   "metadata": {},
   "outputs": [],
   "source": [
    "pattern = Config.source_dir + '/**/*-*-* *.*.*.*'\n",
    "source_paths = list(glob.iglob(pattern, recursive=True))"
   ]
  },
  {
   "cell_type": "code",
   "execution_count": 57,
   "metadata": {},
   "outputs": [],
   "source": [
    "def build_new_names(source_paths, use_miltprocessing=True):\n",
    "    bar = tqdm.tqdm_notebook\n",
    "    \n",
    "    # without multiprocessing == ~5/sec ~14min for 4195 files\n",
    "    # with multiprocessing(4) == ~15/sec ~5min for 4195 files\n",
    "    if use_multiprocessing:\n",
    "        with multiprocessing.Pool(processes=4) as pool:\n",
    "            results = [\n",
    "                (pool.apply_async(build_new_name, (filepath,)), filepath) for filepath in source_paths\n",
    "            ]\n",
    "            relocations = {\n",
    "                filepath: res.get() for res, filepath in bar(results)\n",
    "            }\n",
    "    else:\n",
    "        relocations = {\n",
    "            filepath: build_new_name(filepath) for filepath in bar(source_paths)\n",
    "        }\n",
    "    return relocations"
   ]
  },
  {
   "cell_type": "code",
   "execution_count": 60,
   "metadata": {},
   "outputs": [
    {
     "data": {
      "application/vnd.jupyter.widget-view+json": {
       "model_id": "8dc4735fbb3a42449f1aa490746bc55a",
       "version_major": 2,
       "version_minor": 0
      },
      "text/html": [
       "<p>Failed to display Jupyter Widget of type <code>HBox</code>.</p>\n",
       "<p>\n",
       "  If you're reading this message in the Jupyter Notebook or JupyterLab Notebook, it may mean\n",
       "  that the widgets JavaScript is still loading. If this message persists, it\n",
       "  likely means that the widgets JavaScript library is either not installed or\n",
       "  not enabled. See the <a href=\"https://ipywidgets.readthedocs.io/en/stable/user_install.html\">Jupyter\n",
       "  Widgets Documentation</a> for setup instructions.\n",
       "</p>\n",
       "<p>\n",
       "  If you're reading this message in another frontend (for example, a static\n",
       "  rendering on GitHub or <a href=\"https://nbviewer.jupyter.org/\">NBViewer</a>),\n",
       "  it may mean that your frontend doesn't currently support widgets.\n",
       "</p>\n"
      ],
      "text/plain": [
       "HBox(children=(IntProgress(value=0, max=4195), HTML(value='')))"
      ]
     },
     "metadata": {},
     "output_type": "display_data"
    }
   ],
   "source": [
    "mapped_names = build_new_names(source_paths)"
   ]
  },
  {
   "cell_type": "code",
   "execution_count": 82,
   "metadata": {},
   "outputs": [],
   "source": [
    "def uniquify_filename(filename):\n",
    "    ext = filename.split('.')[-1]\n",
    "    return '{}.{}{}.{}'.format(\n",
    "        filename[:-(len(ext) + 1)],\n",
    "        time.time(),\n",
    "        str(random.randint(0,9999)).zfill(4),\n",
    "        ext\n",
    "    )\n",
    "\n",
    "\n",
    "def move_images(mapped_names, logpath):\n",
    "    moved_names = []\n",
    "    years = []\n",
    "    \n",
    "    with open(logpath, 'a') as log_fp:\n",
    "        for source_path, new_name in tqdm.tqdm_notebook(mapped_names.items()):\n",
    "            if new_name is None:\n",
    "                new_name = os.path.basename(source_path)\n",
    "                if new_name not in moved_names:\n",
    "                    moved_names.append(new_name)\n",
    "                else:\n",
    "                    new_name = uniquify_filename(new_name)\n",
    "                new_path = os.path.join(Config.no_dates_dir, new_name)\n",
    "                print(f'{source_path} → {new_path}', file=log_fp)\n",
    "                shutil.move(source_path, new_path)\n",
    "            elif new_name in moved_names:\n",
    "                new_name = uniquify_filename(new_name)\n",
    "                new_path = os.path.join(Config.dupes_dir, new_name)\n",
    "                print(f'{source_path} → {new_path}', file=log_fp)\n",
    "                shutil.move(source_path, new_path)\n",
    "            else:\n",
    "                moved_names.append(new_name)\n",
    "                year = new_name[:4]\n",
    "                year_dir = os.path.join(Config.output_dir, year)\n",
    "                if year not in years:\n",
    "                    years.append(year)\n",
    "                    os.makedirs(year_dir, exist_ok=True)\n",
    "                new_path = os.path.join(year_dir, new_name)\n",
    "                print(f'{source_path} → {new_path}', file=log_fp)\n",
    "                shutil.move(source_path, new_path)"
   ]
  },
  {
   "cell_type": "code",
   "execution_count": 83,
   "metadata": {},
   "outputs": [
    {
     "data": {
      "application/vnd.jupyter.widget-view+json": {
       "model_id": "f5acf03b7e3040c38c75648aedf6f4dd",
       "version_major": 2,
       "version_minor": 0
      },
      "text/html": [
       "<p>Failed to display Jupyter Widget of type <code>HBox</code>.</p>\n",
       "<p>\n",
       "  If you're reading this message in the Jupyter Notebook or JupyterLab Notebook, it may mean\n",
       "  that the widgets JavaScript is still loading. If this message persists, it\n",
       "  likely means that the widgets JavaScript library is either not installed or\n",
       "  not enabled. See the <a href=\"https://ipywidgets.readthedocs.io/en/stable/user_install.html\">Jupyter\n",
       "  Widgets Documentation</a> for setup instructions.\n",
       "</p>\n",
       "<p>\n",
       "  If you're reading this message in another frontend (for example, a static\n",
       "  rendering on GitHub or <a href=\"https://nbviewer.jupyter.org/\">NBViewer</a>),\n",
       "  it may mean that your frontend doesn't currently support widgets.\n",
       "</p>\n"
      ],
      "text/plain": [
       "HBox(children=(IntProgress(value=0, max=4195), HTML(value='')))"
      ]
     },
     "metadata": {},
     "output_type": "display_data"
    }
   ],
   "source": [
    "move_images(mapped_names, Config.log_path)"
   ]
  }
 ],
 "metadata": {
  "kernelspec": {
   "display_name": "Python 3",
   "language": "python",
   "name": "python3"
  },
  "language_info": {
   "codemirror_mode": {
    "name": "ipython",
    "version": 3
   },
   "file_extension": ".py",
   "mimetype": "text/x-python",
   "name": "python",
   "nbconvert_exporter": "python",
   "pygments_lexer": "ipython3",
   "version": "3.5.3"
  }
 },
 "nbformat": 4,
 "nbformat_minor": 2
}
